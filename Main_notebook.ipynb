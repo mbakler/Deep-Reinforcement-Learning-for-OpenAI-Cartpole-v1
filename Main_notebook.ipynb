{
  "cells": [
    {
      "cell_type": "markdown",
      "metadata": {},
      "source": [
        "# Initial installs and imports"
      ]
    },
    {
      "cell_type": "code",
      "execution_count": null,
      "metadata": {},
      "outputs": [],
      "source": [
        "# Instaling  the libraries used \n",
        "# WARNING: if you don't use this Notebook in Google Colab, this block might print some warnings\n",
        "\n",
        "!pip install gym pyvirtualdisplay > /dev/null 2>&1\n",
        "!apt-get install -y xvfb python-opengl ffmpeg > /dev/null 2>&1\n",
        "!pip install colabgymrender==1.0.2\n",
        "!wget http://www.atarimania.com/roms/Roms.rar\n",
        "!mkdir /content/ROM/\n",
        "!unrar e /content/Roms.rar /content/ROM/\n",
        "!python -m atari_py.import_roms /content/ROM/\n",
        "\n",
        "from IPython.display import clear_output\n",
        "clear_output()"
      ]
    },
    {
      "cell_type": "code",
      "execution_count": null,
      "metadata": {
        "id": "BOsMxx19-fiI"
      },
      "outputs": [],
      "source": [
        "# Importing the libraries\n",
        "import gym\n",
        "from gym.wrappers.monitoring.video_recorder import VideoRecorder    #records videos of episodes\n",
        "import numpy as np\n",
        "import matplotlib.pyplot as plt # Graphical library\n",
        "\n",
        "import torch\n",
        "import torch.optim as optim\n",
        "import torch.nn as nn\n",
        "import torch.nn.functional as F\n",
        "device = torch.device(\"cuda\" if torch.cuda.is_available() else \"cpu\") # Configuring Pytorch\n",
        "\n",
        "from collections import namedtuple, deque\n",
        "from itertools import count\n",
        "import math\n",
        "import random\n",
        "\n",
        "# WARNING: if you don't use this Notebook in Google Colab, comment out these two imports\n",
        "from colabgymrender.recorder import Recorder # Allow to record videos in Google Colab\n",
        "Recorder(gym.make(\"CartPole-v1\"), './video') # Defining the video recorder\n",
        "clear_output()"
      ]
    },
    {
      "cell_type": "markdown",
      "metadata": {},
      "source": [
        "# Defining the model and optimization procedure"
      ]
    },
    {
      "cell_type": "markdown",
      "metadata": {},
      "source": [
        "Firstly the ReplayBuffer and the DQN model is defined. Next separate optimization functions are defined for both DQN and DDQN."
      ]
    },
    {
      "cell_type": "code",
      "execution_count": null,
      "metadata": {
        "id": "GeR9TDra-n-D"
      },
      "outputs": [],
      "source": [
        "Transition = namedtuple('Transition',\n",
        "                        ('state', 'action', 'next_state', 'reward',\n",
        "                         'prev_states'))\n",
        "\n",
        "\n",
        "class ReplayBuffer(object):\n",
        "\n",
        "    def __init__(self, capacity, k): # initialise memory\n",
        "        self.memory = deque([],maxlen=capacity)\n",
        "        self.capacity = capacity\n",
        "        self.k = k\n",
        "    def push(self, *args): \n",
        "        \"\"\"Save a incoming transition to memory\"\"\"\n",
        "        self.memory.append(Transition(*args))\n",
        "\n",
        "    def sample(self, batch_size):# Return a random sample from memory\n",
        "\n",
        "        sample_batch = random.sample(self.memory, batch_size)\n",
        "\n",
        "        return sample_batch\n",
        "\n",
        "    def __len__(self): # Memory length\n",
        "        return len(self.memory)\n",
        "\n",
        "class DQN(nn.Module):\n",
        "\n",
        "    def __init__(self, inputs, outputs, num_hidden, hidden_size):\n",
        "        super(DQN, self).__init__()\n",
        "        self.input_layer = nn.Linear(inputs, hidden_size)\n",
        "        self.hidden_layers = nn.ModuleList([nn.Linear(hidden_size, hidden_size) for _ in range(num_hidden-1)])\n",
        "        self.output_layer = nn.Linear(hidden_size, outputs)\n",
        "    \n",
        "    def forward(self, x):\n",
        "        x.to(device)\n",
        "\n",
        "        x = F.relu(self.input_layer(x))\n",
        "        for layer in self.hidden_layers:\n",
        "            x = F.relu(layer(x))\n",
        "        \n",
        "        return self.output_layer(x)"
      ]
    },
    {
      "cell_type": "code",
      "execution_count": null,
      "metadata": {
        "id": "eONZU7xB-wEX"
      },
      "outputs": [],
      "source": [
        "def optimize_model_DDQN(main_network, target_network, gamma, optimizer, memory, batch_size, k):\n",
        "    \"\"\"\n",
        "    DDQN optimization function using main (policy) and target networks\n",
        "    \n",
        "    \"\"\"\n",
        "    if len(memory) < batch_size: # If memory less than batch size, end the optimization\n",
        "      return                     # Get random transitions from memory    \n",
        "    transitions = memory.sample(batch_size)                             # Currently Batch size is 1 so get 1 transition from memory\n",
        "    #transitions are current state tensor, action taken, next state tensor, reward gotten\n",
        "    # Transpose the batch (see https://stackoverflow.com/a/19343/3343043 for\n",
        "    # detailed explanation). This converts batch-array of Transitions\n",
        "    # to Transition of batch-arrays.\n",
        "    batch = Transition(*zip(*transitions))    \n",
        "\n",
        "\n",
        "    # Compute a mask of non-final states and concatenate the batch elements\n",
        "    # (a final state would've been the one after which simulation ended)\n",
        "    non_final_mask = torch.tensor(tuple(map(lambda s: s is not None,\n",
        "                                          batch.next_state)), device=device, dtype=torch.bool)\n",
        "\n",
        "    # non_final_mask is a tensor that says either True or False if the current state was non final or not\n",
        "    # Can safely omit the condition below to check that not all states in the\n",
        "    # sampled batch are terminal whenever the batch size is reasonable and\n",
        "    # there is virtually no chance that all states in the sampled batch are \n",
        "    # terminal\n",
        "    if sum(non_final_mask) > 0:\n",
        "        non_final_next_states = torch.cat([s for s in batch.next_state\n",
        "                                                    if s is not None])\n",
        "    else:\n",
        "        non_final_next_states = torch.empty(0,state_dim).to(device)\n",
        "\n",
        "    state_batch = torch.cat(batch.state) # Get the states of current batch\n",
        "    action_batch = torch.cat(batch.action) # Get the actions of current batch\n",
        "    reward_batch = torch.cat(batch.reward) # Get the rewards of current batch\n",
        "    prev_states_batch = torch.cat(batch.prev_states).reshape(-1, k*4)\n",
        "\n",
        "    state_memory_batch = torch.cat((prev_states_batch, state_batch), 1)\n",
        "    non_final_next_state_memory = torch.cat((state_memory_batch[non_final_mask][:, -k*4:], non_final_next_states),1)\n",
        "    # Compute Q(s_t, a) - the model computes Q(s_t), then we select the\n",
        "    # columns of actions taken. These are the actions which would've been taken\n",
        "    # for each batch state according to policy_net\n",
        "    # You get 2 values from policy_net(state_batch) and it takes the max one\n",
        "\n",
        "    state_action_values = main_network(state_memory_batch).gather(1, action_batch)\n",
        "\n",
        "    # Compute V(s_{t+1}) for all next states.\n",
        "    # This is merged based on the mask, such that we'll have either the expected\n",
        "    # state value or 0 in case the state was final.\n",
        "    # Firstly here initialise\n",
        "    next_state_values = torch.zeros(batch_size, device=device)\n",
        "    chosen_actions = torch.zeros(batch_size,dtype = int, device=device)\n",
        "\n",
        "    with torch.no_grad():\n",
        "        # Once again can omit the condition if batch size is large enough\n",
        "        if sum(non_final_mask) > 0:\n",
        "            chosen_actions[non_final_mask] = torch.argmax(target_network(non_final_next_state_memory), 1)\n",
        "            actions_non_final = chosen_actions[non_final_mask].unsqueeze(1)\n",
        "            next_state_values[non_final_mask] = main_network(non_final_next_state_memory).gather(1, actions_non_final).flatten()\n",
        "        else:\n",
        "            next_state_values = torch.zeros_like(next_state_values)\n",
        "\n",
        "    # Compute the expected Q values\n",
        "\n",
        "    expected_state_action_values = (next_state_values * gamma) + reward_batch\n",
        "\n",
        "    # Compute loss\n",
        "    criterion = torch.nn.MSELoss()\n",
        "    loss = criterion(state_action_values, expected_state_action_values.unsqueeze(1))\n",
        "    # Optimize the model\n",
        "    optimizer.zero_grad()\n",
        "    loss.backward()\n",
        "\n",
        "    # Limit magnitude of gradient for update step\n",
        "    for param in main_network.parameters():\n",
        "        param.grad.data.clamp_(-1, 1)\n",
        "\n",
        "    optimizer.step()"
      ]
    },
    {
      "cell_type": "code",
      "execution_count": null,
      "metadata": {
        "id": "11KSzKIdEqvB"
      },
      "outputs": [],
      "source": [
        "def optimize_model_DQN(main_network, target_network, gamma, optimizer, memory, batch_size, k):\n",
        "    \"\"\"\n",
        "    DQN optimization function using main (policy) and target networks\n",
        "    \n",
        "    \"\"\"\n",
        "    if len(memory) < batch_size: # If memory less than batch size, end the optimization\n",
        "        return                   \n",
        "    transitions = memory.sample(batch_size) # Get random transitions from memory                                     # Currently Batch size is 1 so get 1 transition from memory\n",
        "    # transitions are current state tensor, action taken, next state tensor, reward gotten\n",
        "    # Transpose the batch (see https://stackoverflow.com/a/19343/3343043 for\n",
        "    # detailed explanation). This converts batch-array of Transitions\n",
        "    # to Transition of batch-arrays.\n",
        "    batch = Transition(*zip(*transitions))    \n",
        "\n",
        "    # Compute a mask of non-final states and concatenate the batch elements\n",
        "    # (a final state would've been the one after which simulation ended)\n",
        "    non_final_mask = torch.tensor(tuple(map(lambda s: s is not None,\n",
        "                                          batch.next_state)), device=device, dtype=torch.bool)\n",
        "\n",
        "    #non_final_mask is a tensor that says either True or False if the current state was non final or not\n",
        "    # Can safely omit the condition below to check that not all states in the\n",
        "    # sampled batch are terminal whenever the batch size is reasonable and\n",
        "    # there is virtually no chance that all states in the sampled batch are \n",
        "    # terminal\n",
        "    if sum(non_final_mask) > 0:\n",
        "        non_final_next_states = torch.cat([s for s in batch.next_state\n",
        "                                                    if s is not None])\n",
        "    else:\n",
        "        non_final_next_states = torch.empty(0,state_dim).to(device)\n",
        "\n",
        "    state_batch = torch.cat(batch.state) # Get the states of current batch\n",
        "    action_batch = torch.cat(batch.action) # Get the actions of current batch\n",
        "    reward_batch = torch.cat(batch.reward) # Get the rewards of current batch\n",
        "    prev_states_batch = torch.cat(batch.prev_states).reshape(-1, k*4)\n",
        "\n",
        "    state_memory_batch = torch.cat((prev_states_batch, state_batch), 1)\n",
        "    non_final_next_state_memory = torch.cat((state_memory_batch[non_final_mask][:, -k*4:], non_final_next_states),1)\n",
        "    # Compute Q(s_t, a) - the model computes Q(s_t), then we select the\n",
        "    # columns of actions taken. These are the actions which would've been taken\n",
        "    # for each batch state according to policy_net\n",
        "    # You get 2 values from policy_net(state_batch) and it takes the max one\n",
        "    state_action_values = main_network(state_memory_batch).gather(1, action_batch)\n",
        "\n",
        "    # Compute V(s_{t+1}) for all next states.\n",
        "    # This is merged based on the mask, such that we'll have either the expected\n",
        "    # state value or 0 in case the state was final.\n",
        "    # Firstly here initialise\n",
        "    next_state_values = torch.zeros(batch_size, device=device)\n",
        "    \n",
        "    with torch.no_grad():\n",
        "        # Once again can omit the condition if batch size is large enough\n",
        "        if sum(non_final_mask) > 0:\n",
        "            next_state_values[non_final_mask] = target_network(non_final_next_state_memory).max(1)[0].detach()\n",
        "        else:\n",
        "            next_state_values = torch.zeros_like(next_state_values)\n",
        "\n",
        "    # Compute the expected Q values\n",
        "\n",
        "    expected_state_action_values = (next_state_values * gamma) + reward_batch\n",
        "\n",
        "    # Compute loss\n",
        "    criterion = torch.nn.MSELoss()\n",
        "    loss = criterion(state_action_values, expected_state_action_values.unsqueeze(1))\n",
        "    # Optimize the model\n",
        "    optimizer.zero_grad()\n",
        "    loss.backward()\n",
        "\n",
        "    # Limit magnitude of gradient for update step\n",
        "    for param in main_network.parameters():\n",
        "        param.grad.data.clamp_(-1, 1)\n",
        "\n",
        "    optimizer.step()"
      ]
    },
    {
      "cell_type": "markdown",
      "metadata": {},
      "source": [
        "Next defined functions for selecting an action by the networks and separate learning rate schedule for ddqn case"
      ]
    },
    {
      "cell_type": "code",
      "execution_count": null,
      "metadata": {
        "id": "aQIIdGIP_odm"
      },
      "outputs": [],
      "source": [
        "def select_action(state_action, state, policy_net,n_actions , current_eps=0):\n",
        "    sample = random.random()\n",
        "    eps_threshold = current_eps\n",
        "    state_mem = torch.cat((state_action.flatten().unsqueeze(0), state.flatten().unsqueeze(0)),1)\n",
        "    if sample > eps_threshold:\n",
        "        with torch.no_grad():\n",
        "            # t.max(1) will return largest column value of each row.\n",
        "            # second column on max result is index of where max element was\n",
        "            # found, so we pick action with the larger expected reward.\n",
        "            return torch.tensor([[policy_net(state_mem).argmax().item()]], device=device, dtype=torch.long)\n",
        "    else:\n",
        "        return torch.tensor([[random.randrange(n_actions)]], device=device, dtype=torch.long)"
      ]
    },
    {
      "cell_type": "code",
      "execution_count": null,
      "metadata": {
        "id": "m9_lUP7pGmmC"
      },
      "outputs": [],
      "source": [
        "def ddqn_schedule(mean_rew):\n",
        "  if mean_rew < 100:\n",
        "    epsilon = 0.0001\n",
        "    learning_rate = 0.001\n",
        "    \n",
        "  elif mean_rew <200:\n",
        "    epsilon = 0.0001\n",
        "    learning_rate = 0.0001\n",
        "    \n",
        "  elif mean_rew < 300:\n",
        "    epsilon = 0.0001\n",
        "    learning_rate = 0.0001\n",
        "    \n",
        "  elif mean_rew < 400:\n",
        "    epsilon = 0.0\n",
        "    learning_rate = 0.00001\n",
        "\n",
        "  else:\n",
        "    epsilon = 0\n",
        "    learning_rate = 0.000001\n",
        "  return epsilon, learning_rate"
      ]
    },
    {
      "cell_type": "markdown",
      "metadata": {},
      "source": [
        "# Training the network and results"
      ]
    },
    {
      "cell_type": "markdown",
      "metadata": {},
      "source": [
        "First the function for training the network is constructed, next a plotting function is defined and running the final cell trains the networks and plots the results."
      ]
    },
    {
      "cell_type": "code",
      "execution_count": null,
      "metadata": {
        "id": "8NYuYPI4_r1F"
      },
      "outputs": [],
      "source": [
        "def train_network(num_episodes,batch_size, gamma, k, epsilon, num_hidden_layers,size_hidden_layers,learning_rate, ddqn, buffer_size):\n",
        "# Get number of states and actions from gym action space\n",
        "  env = gym.make(\"CartPole-v1\")\n",
        "  env.reset()\n",
        "  state_dim = len(env.state)    #x, x_dot, theta, theta_dot\n",
        "  n_actions = env.action_space.n\n",
        "  env.close()\n",
        "\n",
        "  main_network = DQN((state_dim)*(k+1), n_actions, num_hidden_layers, size_hidden_layers).to(device)\n",
        "  target_network = DQN((state_dim)*(k+1), n_actions, num_hidden_layers, size_hidden_layers).to(device)\n",
        "\n",
        "  optimizer = optim.Adam(main_network.parameters(), learning_rate)\n",
        "  memory = ReplayBuffer(buffer_size, k)\n",
        "  episode_durations = []\n",
        "  for i_episode in range(num_episodes):\n",
        "    if i_episode % 100 == 0:\n",
        "        print(\"episode \", i_episode, \"/\", num_episodes)\n",
        "    if i_episode % 10 == 0:\n",
        "        target_network.load_state_dict(main_network.state_dict())\n",
        "    # Initialize the environment and state\n",
        "    env.reset()\n",
        "    state_memory = torch.zeros((k,4))\n",
        "    state = torch.tensor(env.state).float().unsqueeze(0).to(device) # Get the current state values\n",
        "    \n",
        "    if ddqn: # Epsilon and learning rate schedule if DDQN\n",
        "      if i_episode >= 120:\n",
        "        mean_rew = np.mean(episode_durations[-5:])\n",
        "        epsilon, learning_rate_mod = ddqn_schedule(mean_rew)\n",
        "        for g in optimizer.param_groups:\n",
        "          g['lr'] = learning_rate_mod\n",
        "      else:\n",
        "        epsilon = epsilon * 0.98\n",
        "    else: # Epsilon schedule if DQN\n",
        "      if i_episode >= 50:\n",
        "        epsilon = epsilon * 0.985\n",
        "      else:\n",
        "        epsilon = epsilon * 0.975\n",
        "\n",
        "    for t in count():\n",
        "        # Select and perform an action\n",
        "        action = select_action(state_memory[-k:],state, main_network,n_actions, epsilon)\n",
        "        _, reward, done, _ = env.step(action.item())\n",
        "        reward = torch.tensor([reward], device=device)\n",
        "        # Observe new state\n",
        "        if not done:\n",
        "            next_state = torch.tensor(env.state).float().unsqueeze(0).to(device)\n",
        "        else:\n",
        "            next_state = None\n",
        "        # Store the transition in memory\n",
        "        memory.push(state, action, next_state, reward,state_memory[-k:].flatten())\n",
        "        if ddqn:\n",
        "          optimize_model_DDQN(main_network, target_network, gamma, optimizer, memory, batch_size, k)\n",
        "        else: \n",
        "          optimize_model_DQN(main_network, target_network, gamma, optimizer, memory, batch_size, k)\n",
        "        # Move to the next state\n",
        "        state_memory = torch.cat((state_memory, state),0)\n",
        "        state = next_state\n",
        "        # Perform one step of the optimization (on the policy network)\n",
        "        if done:\n",
        "            break\n",
        "    episode_durations.append(t)\n",
        "  target_network = main_network\n",
        "\n",
        "  plt.figure()\n",
        "  plt.plot(episode_durations, color = \"steelblue\", label=\"Rewards\")\n",
        "  plt.title(\"Learning curve\")\n",
        "  plt.xlabel(\"Number of episodes\")\n",
        "  plt.ylabel(\"Total summed rewards\")\n",
        "  plt.legend([\" Total Rewards\"],\n",
        "         loc=\"lower right\", bbox_to_anchor=(1, 0.1), prop={\"size\":8})\n",
        "  plt.grid()\n",
        "  plt.box(False)\n",
        "  plt.show()\n",
        "\n",
        "  env.close()\n",
        "  return (main_network, target_network, episode_durations)\n"
      ]
    },
    {
      "cell_type": "code",
      "execution_count": null,
      "metadata": {
        "id": "U8bWDVLnk2oj"
      },
      "outputs": [],
      "source": [
        "def plot_graph(title, durations):\n",
        "  mean_rewards = np.average(durations, axis = 0)\n",
        "  std_rewards = np.std(durations, axis = 0)\n",
        "  \n",
        "  print(title)\n",
        "  plt.figure()\n",
        "  plt.plot(mean_rewards, color = \"steelblue\", label=\"forestgreen\")\n",
        "  plt.fill_between(range(len(durations[0])), mean_rewards-std_rewards, mean_rewards+std_rewards, alpha = 0.5, color = \"forestgreen\")\n",
        "  plt.legend([\" Mean rewards\", \"Standard deviation\"],\n",
        "            loc=\"lower right\", bbox_to_anchor=(1, 0.1), prop={\"size\":8})\n",
        "\n",
        "  plt.xlabel(\"Number of episodes\")\n",
        "  plt.ylabel(\"Total summed rewards\")\n",
        "  plt.grid()\n",
        "  plt.box(False)\n",
        "  plt.show()\n",
        "  return mean_rewards, std_rewards"
      ]
    },
    {
      "cell_type": "code",
      "execution_count": null,
      "metadata": {
        "colab": {
          "base_uri": "https://localhost:8080/",
          "height": 330
        },
        "id": "u-uSl_C-AUK-",
        "outputId": "44116929-7cef-4945-af10-28f8f1c3d716"
      },
      "outputs": [
        {
          "name": "stdout",
          "output_type": "stream",
          "text": [
            "episode  0 / 200\n",
            "episode  100 / 200\n"
          ]
        },
        {
          "data": {
            "image/png": "[encoded data removed]",
            "text/plain": [
              "<Figure size 432x288 with 1 Axes>"
            ]
          },
          "metadata": {
            "needs_background": "light"
          },
          "output_type": "display_data"
        }
      ],
      "source": [
        "num_episodes = 200\n",
        "batch_size = 64\n",
        "gamma = 0.999\n",
        "k = 1\n",
        "epsilon = 1\n",
        "num_hidden_layers = 2\n",
        "size_hidden_layers = 256\n",
        "ddqn = False\n",
        "learning_rate = 0.0001\n",
        "size_buffer = 500000\n",
        "\n",
        "main_network_fin, target_network_fin, episode_duration = train_network(num_episodes,batch_size, gamma, k,\n",
        "           epsilon, num_hidden_layers,size_hidden_layers,\n",
        "           learning_rate, ddqn, buffer_size = size_buffer)"
      ]
    }
  ],
  "metadata": {
    "colab": {
      "collapsed_sections": [],
      "name": "Reinforcement_Learning - CW2.ipynb koopia",
      "provenance": []
    },
    "kernelspec": {
      "display_name": "Python 3",
      "name": "python3"
    },
    "language_info": {
      "name": "python"
    }
  },
  "nbformat": 4,
  "nbformat_minor": 0
}
